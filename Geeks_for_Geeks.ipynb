{
  "cells": [
    {
      "cell_type": "markdown",
      "metadata": {
        "id": "view-in-github",
        "colab_type": "text"
      },
      "source": [
        "<a href=\"https://colab.research.google.com/github/shivam0070/python-code/blob/main/Geeks_for_Geeks.ipynb\" target=\"_parent\"><img src=\"https://colab.research.google.com/assets/colab-badge.svg\" alt=\"Open In Colab\"/></a>"
      ]
    },
    {
      "cell_type": "markdown",
      "metadata": {
        "id": "coK5F9y7wl2P"
      },
      "source": [
        "# **Basic Programs:**"
      ]
    },
    {
      "cell_type": "markdown",
      "metadata": {
        "id": "HNEvbymEzVd4"
      },
      "source": [
        "**1.)Question**"
      ]
    },
    {
      "cell_type": "code",
      "execution_count": null,
      "metadata": {
        "colab": {
          "base_uri": "https://localhost:8080/"
        },
        "id": "nMgmlG3Ov-JY",
        "outputId": "8ab6de77-8dff-436e-901e-d0c9a84001c1"
      },
      "outputs": [
        {
          "name": "stdout",
          "output_type": "stream",
          "text": [
            "27\n"
          ]
        }
      ],
      "source": [
        "#Python program to add two numbers\n",
        "num1 = 15\n",
        "num2 = 12\n",
        "  \n",
        "# Adding two nos\n",
        "sum = num1 + num2\n",
        "print(sum)"
      ]
    },
    {
      "cell_type": "code",
      "execution_count": null,
      "metadata": {
        "colab": {
          "base_uri": "https://localhost:8080/"
        },
        "id": "HqaU4Tw7wvHA",
        "outputId": "79db7bbd-644c-4733-f2af-eca1604f2de9"
      },
      "outputs": [
        {
          "name": "stdout",
          "output_type": "stream",
          "text": [
            "First number: 5\n",
            "\n",
            "Second number: 5\n",
            "10.0\n"
          ]
        }
      ],
      "source": [
        "#2\n",
        "number1 = input(\"First number: \")\n",
        "number2 = input(\"\\nSecond number: \")\n",
        "  \n",
        "# Adding two numbers\n",
        "# User might also enter float numbers\n",
        "sum = float(number1) + float(number2)\n",
        "print(sum)"
      ]
    },
    {
      "cell_type": "code",
      "execution_count": null,
      "metadata": {
        "colab": {
          "base_uri": "https://localhost:8080/"
        },
        "id": "hkUxex4gw58l",
        "outputId": "213c345b-e430-4f41-c594-07af29fbe873"
      },
      "outputs": [
        {
          "name": "stdout",
          "output_type": "stream",
          "text": [
            "<function <lambda> at 0x7f69490e8ca0>\n"
          ]
        }
      ],
      "source": [
        "#3\n",
        "if __name__ == \"__main__\" :\n",
        "    \n",
        "  num1 = 15\n",
        "  num2 = 12\n",
        "    \n",
        "  # Adding two numbers\n",
        "  sum_twoNum = lambda num1, num2 : num1 + num2\n",
        "    \n",
        "  # printing values\n",
        "  print(sum_twoNum)"
      ]
    },
    {
      "cell_type": "code",
      "execution_count": null,
      "metadata": {
        "colab": {
          "base_uri": "https://localhost:8080/"
        },
        "id": "kAclrViUxR3s",
        "outputId": "5cbe5250-0fff-4466-82d5-bfffb8fe5a49"
      },
      "outputs": [
        {
          "name": "stdout",
          "output_type": "stream",
          "text": [
            "15\n"
          ]
        }
      ],
      "source": [
        "##To define a function that take two integers and return the sum of those two numbers\n",
        "def add(a,b):\n",
        "  return a+b\n",
        "  \n",
        "#initializing the variables\n",
        "num1 = 10\n",
        "num2 = 5\n",
        "  \n",
        "#function calling and store the result into sum_of_twonumbers\n",
        "sum_of_twonumbers = add(num1,num2)\n",
        "print(sum_of_twonumbers)"
      ]
    },
    {
      "cell_type": "markdown",
      "metadata": {
        "id": "vj4-SgBKzpHX"
      },
      "source": [
        "**2.) Question**"
      ]
    },
    {
      "cell_type": "code",
      "execution_count": null,
      "metadata": {
        "colab": {
          "base_uri": "https://localhost:8080/"
        },
        "id": "nEdOryJaxl6C",
        "outputId": "64bf878f-fecf-464a-de3b-912d7290477f"
      },
      "outputs": [
        {
          "name": "stdout",
          "output_type": "stream",
          "text": [
            "3\n"
          ]
        }
      ],
      "source": [
        "#Maximum of two numbers in Python\n",
        "def Maximum(a, b):\n",
        "  if a >= b:\n",
        "    return a\n",
        "  else:\n",
        "    return b\n",
        "a = 2\n",
        "b = 3\n",
        "print(Maximum(a,b))\n"
      ]
    },
    {
      "cell_type": "code",
      "execution_count": null,
      "metadata": {
        "colab": {
          "base_uri": "https://localhost:8080/"
        },
        "id": "pCN0QmoKyox0",
        "outputId": "f12c3d7a-bed3-418d-eeea-eaddbc456d6c"
      },
      "outputs": [
        {
          "name": "stdout",
          "output_type": "stream",
          "text": [
            "3\n"
          ]
        }
      ],
      "source": [
        "#2\n",
        "a = 2\n",
        "b = 3\n",
        "maximum = max(a,b)\n",
        "print(maximum)"
      ]
    },
    {
      "cell_type": "code",
      "execution_count": null,
      "metadata": {
        "colab": {
          "base_uri": "https://localhost:8080/"
        },
        "id": "H2TNYgGAzAWC",
        "outputId": "2a340512-eaef-4606-857b-76146b6de6bd"
      },
      "outputs": [
        {
          "name": "stdout",
          "output_type": "stream",
          "text": [
            "5\n"
          ]
        }
      ],
      "source": [
        "# find max num using sort method\n",
        "a = 2\n",
        "b = 5\n",
        "x = [a,b]\n",
        "x.sort()\n",
        "print(x[-1])"
      ]
    },
    {
      "cell_type": "markdown",
      "metadata": {
        "id": "wsQh5FYmzwPY"
      },
      "source": [
        "**3.)Question**"
      ]
    },
    {
      "cell_type": "code",
      "execution_count": null,
      "metadata": {
        "colab": {
          "base_uri": "https://localhost:8080/"
        },
        "id": "1OJhUC0vzNIc",
        "outputId": "755e5bb1-0df3-4a21-bf07-a39795151391"
      },
      "outputs": [
        {
          "name": "stdout",
          "output_type": "stream",
          "text": [
            "Factorial of 5 is 120\n"
          ]
        }
      ],
      "source": [
        "# factorial of given number\n",
        "def factorial(n):\n",
        "  return 1 if (n==1 or n==0) else n * factorial(n-1)\n",
        "num = 5\n",
        "print(\"Factorial of\",num,\"is\",factorial(num))"
      ]
    },
    {
      "cell_type": "code",
      "execution_count": null,
      "metadata": {
        "colab": {
          "base_uri": "https://localhost:8080/"
        },
        "id": "EWqiE0eT1HQn",
        "outputId": "fa58ce49-c1ac-4b4e-eeba-21a0d06e8e2d"
      },
      "outputs": [
        {
          "name": "stdout",
          "output_type": "stream",
          "text": [
            "factorial of 5 is 120\n"
          ]
        }
      ],
      "source": [
        "#2\n",
        "import math\n",
        "def factorial(n):\n",
        "  return(math.factorial(n))\n",
        "num = 5 \n",
        "print(\"factorial of\",num,\"is\",factorial(num))"
      ]
    },
    {
      "cell_type": "code",
      "execution_count": null,
      "metadata": {
        "colab": {
          "base_uri": "https://localhost:8080/"
        },
        "id": "-Ys21Aqu1UmB",
        "outputId": "af6da6ef-1e42-43c3-f21d-af85a3c37217"
      },
      "outputs": [
        {
          "name": "stdout",
          "output_type": "stream",
          "text": [
            "120\n"
          ]
        }
      ],
      "source": [
        "#3\n",
        "import numpy\n",
        "n=5\n",
        "x=numpy.prod([i for i in range(1,n+1)])\n",
        "print(x)"
      ]
    },
    {
      "cell_type": "markdown",
      "metadata": {
        "id": "dM3wUSHc2BDP"
      },
      "source": [
        "**4.) Question**\n"
      ]
    },
    {
      "cell_type": "code",
      "execution_count": null,
      "metadata": {
        "colab": {
          "base_uri": "https://localhost:8080/"
        },
        "id": "xyz3fVTu1zc0",
        "outputId": "fbf0a70a-4ed8-4f38-ec17-1b76cb7af206"
      },
      "outputs": [
        {
          "name": "stdout",
          "output_type": "stream",
          "text": [
            "Enter the principal amount :100\n",
            "Enter the time period :2\n",
            "Enter the rate of interest :10\n",
            "The Simple Interest is 20.0\n"
          ]
        }
      ],
      "source": [
        "## Python3 program to find simple interest\n",
        "P = int(input(\"Enter the principal amount :\"))\n",
        "T = int(input(\"Enter the time period :\"))\n",
        "R = int(input(\"Enter the rate of interest :\"))\n",
        "\n",
        "si = (P * T * R)/100\n",
        "print('The Simple Interest is', si)\n"
      ]
    },
    {
      "cell_type": "markdown",
      "metadata": {
        "id": "GCT6AoF82qFn"
      },
      "source": [
        "**5.) Question**"
      ]
    },
    {
      "cell_type": "code",
      "execution_count": null,
      "metadata": {
        "colab": {
          "base_uri": "https://localhost:8080/"
        },
        "id": "8RnjrF3Y2x8_",
        "outputId": "4207db25-5423-4a6d-a9ba-0cc27786db8e"
      },
      "outputs": [
        {
          "name": "stdout",
          "output_type": "stream",
          "text": [
            "133.0992000000001\n"
          ]
        }
      ],
      "source": [
        "# Python3 program to find compound\n",
        "# interest for given values.\n",
        "p= 1200    \n",
        "t= 2      \n",
        "r= 5.4     \n",
        "a=p*(1+(r/100))**t   \n",
        "ci=a-p   \n",
        "print(ci)"
      ]
    },
    {
      "cell_type": "code",
      "execution_count": null,
      "metadata": {
        "colab": {
          "base_uri": "https://localhost:8080/"
        },
        "id": "Z3d-nULh3Nv7",
        "outputId": "96b69d98-097f-4c69-af38-1b4b210edd12"
      },
      "outputs": [
        {
          "name": "stdout",
          "output_type": "stream",
          "text": [
            "Compound interest is 252.00000000000023\n"
          ]
        }
      ],
      "source": [
        "#2\n",
        "def compound_interest(principal, rate, time):\n",
        "    Amount = principal\n",
        "    for i in range(time):\n",
        "        Amount = Amount * (1 + rate/100)\n",
        "    CI = Amount - principal\n",
        "    print(\"Compound interest is\", CI)\n",
        "# Driver Code\n",
        "compound_interest(1200, 10, 2)"
      ]
    },
    {
      "cell_type": "markdown",
      "metadata": {
        "id": "OgR4TTVi3uFw"
      },
      "source": [
        "***6.) Question***"
      ]
    },
    {
      "cell_type": "code",
      "execution_count": null,
      "metadata": {
        "colab": {
          "base_uri": "https://localhost:8080/"
        },
        "id": "ejT6-chL3nfb",
        "outputId": "9531dbd9-abf7-4549-d0e7-6590a99aef91"
      },
      "outputs": [
        {
          "name": "stdout",
          "output_type": "stream",
          "text": [
            "the given number 153 is armstrong number\n"
          ]
        }
      ],
      "source": [
        "# check number is armstrong or not, armstrong means -- 153 is an Armstrong number.\n",
        "#1*1*1 + 5*5*5 + 3*3*3 = 153\n",
        "n = 153\n",
        "s = n\n",
        "b = len(str(n))\n",
        "sum1 = 0\n",
        "while n != 0:\n",
        "  r = n % 10\n",
        "  sum1 = sum1+(r**b)\n",
        "  n = n//10\n",
        "if s == sum1:\n",
        "  print(\"the given number\", s, \"is armstrong number\")\n",
        "else:\n",
        "  print(\"the given number\", s, \"is not armstrong number\")\n"
      ]
    },
    {
      "cell_type": "markdown",
      "metadata": {
        "id": "92mXgc2_8AF_"
      },
      "source": [
        "**7.) Question**"
      ]
    },
    {
      "cell_type": "code",
      "execution_count": null,
      "metadata": {
        "colab": {
          "base_uri": "https://localhost:8080/"
        },
        "id": "eMNEhayM6GYK",
        "outputId": "07780831-71f4-477f-c58a-bc93de40fd39"
      },
      "outputs": [
        {
          "name": "stdout",
          "output_type": "stream",
          "text": [
            "Area is 78.550000\n"
          ]
        }
      ],
      "source": [
        "# Python program to find Area of a circle\n",
        "def findArea(r):\n",
        "    PI = 3.142\n",
        "    return PI * (r*r);\n",
        " \n",
        "print(\"Area is %.6f\" % findArea(5));"
      ]
    },
    {
      "cell_type": "markdown",
      "metadata": {
        "id": "TJ3HIxvz8fVr"
      },
      "source": [
        "**8.) Question**"
      ]
    },
    {
      "cell_type": "code",
      "execution_count": null,
      "metadata": {
        "colab": {
          "base_uri": "https://localhost:8080/"
        },
        "id": "AXIpIlvA8cjY",
        "outputId": "d284231a-5c69-4c33-fb06-67429e4c2882"
      },
      "outputs": [
        {
          "name": "stdout",
          "output_type": "stream",
          "text": [
            "Please, Enter the Lowest Range Value: 5\n",
            "Please, Enter the Upper Range Value: 20\n",
            "The Prime Numbers in the range are: \n",
            "5\n",
            "7\n",
            "11\n",
            "13\n",
            "17\n",
            "19\n"
          ]
        }
      ],
      "source": [
        "# Python program to print all\n",
        "# prime number in an interval\n",
        "lower_value = int(input (\"Please, Enter the Lowest Range Value: \"))  \n",
        "upper_value = int(input (\"Please, Enter the Upper Range Value: \"))  \n",
        "  \n",
        "print (\"The Prime Numbers in the range are: \")  \n",
        "for number in range (lower_value, upper_value + 1):  \n",
        "    if number > 1:  \n",
        "        for i in range (2, number):  \n",
        "            if (number % i) == 0:  \n",
        "                break  \n",
        "        else:  \n",
        "            print (number)  \n"
      ]
    },
    {
      "cell_type": "code",
      "execution_count": null,
      "metadata": {
        "colab": {
          "base_uri": "https://localhost:8080/"
        },
        "id": "KbbEAg4bLdo0",
        "outputId": "64d16bb6-b68d-46c9-d077-2c8e09d3e9f9"
      },
      "outputs": [
        {
          "name": "stdout",
          "output_type": "stream",
          "text": [
            "enter the number4\n",
            "not a prime no\n"
          ]
        }
      ],
      "source": [
        "n=int(input(\"enter the number\"))\n",
        "if n <2:\n",
        "  print(\"not a prime no\")\n",
        "else:\n",
        "  for i in range(2,n):\n",
        "    if n%i==0:\n",
        "      print(\"not a prime no\")\n",
        "      break\n",
        "    else:\n",
        "      print(\"its a prime no\")"
      ]
    },
    {
      "cell_type": "markdown",
      "metadata": {
        "id": "H-RMHEitI_ZR"
      },
      "source": [
        "**9.) Question**"
      ]
    },
    {
      "cell_type": "code",
      "execution_count": null,
      "metadata": {
        "colab": {
          "base_uri": "https://localhost:8080/"
        },
        "id": "iuN1Hev4HpaS",
        "outputId": "6cedb338-438a-49a5-f879-1e4466036f5a"
      },
      "outputs": [
        {
          "name": "stdout",
          "output_type": "stream",
          "text": [
            "11 is a prime number\n"
          ]
        }
      ],
      "source": [
        "#Python Program to Check Prime Number\n",
        "num = 11\n",
        "if num > 1:\n",
        "  for i in range(2, int(num/2)+1):\n",
        "    if (num%i) == 0:\n",
        "      print(num, \"is not a prime number\")\n",
        "      break\n",
        "  else:\n",
        "    print(num, \"is a prime number\")\n",
        "else:\n",
        "  print(num, \"is not a prime number\")"
      ]
    },
    {
      "cell_type": "markdown",
      "metadata": {
        "id": "Gbo4KKJYJCyk"
      },
      "source": [
        "**10.) Question**"
      ]
    },
    {
      "cell_type": "code",
      "execution_count": null,
      "metadata": {
        "colab": {
          "base_uri": "https://localhost:8080/"
        },
        "id": "EfaOHm1KJCCR",
        "outputId": "4b3cc397-281e-4058-d401-7b370df5f5ce"
      },
      "outputs": [
        {
          "name": "stdout",
          "output_type": "stream",
          "text": [
            "34\n"
          ]
        }
      ],
      "source": [
        "# Function for nth Fibonacci numbe=0, 1, 1, 2, 3, 5, 8, 13, 21, 34, 55, 89, 144, 233, 377।\n",
        "def Fibonacci(n):\n",
        "  if n<= 0:\n",
        "    print(\"Incorrect input\")\n",
        "     \n",
        "  elif n == 1: #first fibonacci number is 0\n",
        "    return 0\n",
        "     \n",
        "  elif n == 2:#second fibonacci number is 1\n",
        "    return 1\n",
        "  else:\n",
        "    return Fibonacci(n-1)+Fibonacci(n-2)\n",
        "print(Fibonacci(10))"
      ]
    },
    {
      "cell_type": "code",
      "execution_count": null,
      "metadata": {
        "colab": {
          "base_uri": "https://localhost:8080/"
        },
        "id": "-vt6PzHGmybB",
        "outputId": "7b3c65b8-e6a0-4355-d4aa-e84562f9e811"
      },
      "outputs": [
        {
          "name": "stdout",
          "output_type": "stream",
          "text": [
            "1 is a Fibonacci Number\n",
            "2 is a Fibonacci Number\n",
            "3 is a Fibonacci Number\n",
            "4 is a not Fibonacci Number \n",
            "5 is a Fibonacci Number\n",
            "6 is a not Fibonacci Number \n",
            "7 is a not Fibonacci Number \n",
            "8 is a Fibonacci Number\n",
            "9 is a not Fibonacci Number \n",
            "10 is a not Fibonacci Number \n"
          ]
        }
      ],
      "source": [
        "#how to check if a given number is fibonacci number or not\n",
        " \n",
        "import math\n",
        " \n",
        "def isPerfectSquare(x):\n",
        "    s = int(math.sqrt(x))\n",
        "    return s*s == x\n",
        " \n",
        "def isFibonacci(n):\n",
        "  \n",
        "    return isPerfectSquare(5*n*n + 4) or isPerfectSquare(5*n*n - 4)\n",
        "\n",
        "for i in range(1, 11):\n",
        "    if (isFibonacci(i) == True):\n",
        "        print(i, \"is a Fibonacci Number\")\n",
        "    else:\n",
        "        print(i, \"is a not Fibonacci Number \")"
      ]
    },
    {
      "cell_type": "code",
      "execution_count": null,
      "metadata": {
        "colab": {
          "base_uri": "https://localhost:8080/",
          "height": 235
        },
        "id": "0loZIFQznuIv",
        "outputId": "9a86fc2d-5e31-4fc0-94e2-8560937d8400"
      },
      "outputs": [
        {
          "ename": "NameError",
          "evalue": "ignored",
          "output_type": "error",
          "traceback": [
            "\u001b[0;31m---------------------------------------------------------------------------\u001b[0m",
            "\u001b[0;31mNameError\u001b[0m                                 Traceback (most recent call last)",
            "\u001b[0;32m<ipython-input-4-e753f942479d>\u001b[0m in \u001b[0;36m<cell line: 22>\u001b[0;34m()\u001b[0m\n\u001b[1;32m     20\u001b[0m \u001b[0mk\u001b[0m \u001b[0;34m=\u001b[0m \u001b[0;36m4\u001b[0m\u001b[0;34m;\u001b[0m\u001b[0;34m\u001b[0m\u001b[0;34m\u001b[0m\u001b[0m\n\u001b[1;32m     21\u001b[0m \u001b[0;34m\u001b[0m\u001b[0m\n\u001b[0;32m---> 22\u001b[0;31m \u001b[0mprint\u001b[0m\u001b[0;34m(\u001b[0m\u001b[0;34m\"Position of n\\'th multiple of k in Fibonacci Series is\"\u001b[0m\u001b[0;34m,\u001b[0m \u001b[0mfindPosition\u001b[0m\u001b[0;34m(\u001b[0m\u001b[0mk\u001b[0m\u001b[0;34m,\u001b[0m\u001b[0mn\u001b[0m\u001b[0;34m)\u001b[0m\u001b[0;34m)\u001b[0m\u001b[0;34m;\u001b[0m\u001b[0;34m\u001b[0m\u001b[0;34m\u001b[0m\u001b[0m\n\u001b[0m\u001b[1;32m     23\u001b[0m \u001b[0;34m\u001b[0m\u001b[0m\n",
            "\u001b[0;31mNameError\u001b[0m: name 'n' is not defined"
          ]
        }
      ],
      "source": [
        "# Python Program to find position of n\\'th multiple\n",
        "# of a number k in Fibonacci Series\n",
        " \n",
        "def findPosition(k, n):\n",
        "    f1 = 0\n",
        "    f2 = 1\n",
        "    i =2;\n",
        "    while i!=0:\n",
        "        f3 = f1 + f2;\n",
        "        f1 = f2;\n",
        "        f2 = f3;\n",
        " \n",
        "        if f2%k == 0:\n",
        "            return n*i\n",
        " \n",
        "        i+=1\n",
        "         \n",
        "    return\n",
        " \n",
        "k = 4;\n",
        " \n",
        "print(\"Position of n\\'th multiple of k in Fibonacci Series is\", findPosition(k,n));\n",
        " "
      ]
    },
    {
      "cell_type": "code",
      "execution_count": null,
      "metadata": {
        "id": "eUIwSzDtof3w"
      },
      "outputs": [],
      "source": [
        "#Program to print ASCII Value of a character"
      ]
    },
    {
      "cell_type": "code",
      "execution_count": null,
      "metadata": {
        "colab": {
          "base_uri": "https://localhost:8080/"
        },
        "id": "3f4llEVRohxa",
        "outputId": "dda46f62-333d-44c3-8031-838653b9460b"
      },
      "outputs": [
        {
          "name": "stdout",
          "output_type": "stream",
          "text": [
            "enter the number2\n",
            "the sum of squares of first 2 natural number is 5\n"
          ]
        }
      ],
      "source": [
        "#sum of squares first n natural numbers\n",
        "n=int(input(\"enter the number\"))\n",
        "sum=0\n",
        "for i in range(1,n+1):\n",
        "\n",
        "  sum +=i**2\n",
        "print(\"the sum of squares of first\", n, \"natural number is\", sum)"
      ]
    },
    {
      "cell_type": "code",
      "execution_count": null,
      "metadata": {
        "colab": {
          "background_save": true,
          "base_uri": "https://localhost:8080/",
          "height": 130
        },
        "id": "p7zoHg4tpzqx",
        "outputId": "91935b69-340a-4e9d-c966-99aa6813ed0c"
      },
      "outputs": [
        {
          "name": "stdout",
          "output_type": "stream",
          "text": [
            "the sum of cube of first 3 natural number is 36\n"
          ]
        }
      ],
      "source": [
        "#sum of cube first n natural numbers\n",
        "n=int(input(\"enter the number\"))\n",
        "sum=0\n",
        "for i in range(1,n+1):\n",
        "\n",
        "  sum +=i**3\n",
        "print(\"the sum of cube of first\", n, \"natural number is\", sum)"
      ]
    },
    {
      "cell_type": "markdown",
      "metadata": {
        "id": "WJZRuIjmrHu8"
      },
      "source": [
        "# **ARRAY**"
      ]
    },
    {
      "cell_type": "markdown",
      "metadata": {
        "id": "abundWitrHhe"
      },
      "source": []
    },
    {
      "cell_type": "code",
      "execution_count": null,
      "metadata": {
        "colab": {
          "base_uri": "https://localhost:8080/"
        },
        "id": "kk2fc0-NrEzh",
        "outputId": "81f3c766-2361-4070-b977-273be188bc85"
      },
      "outputs": [
        {
          "name": "stdout",
          "output_type": "stream",
          "text": [
            "sum of array: 34\n"
          ]
        }
      ],
      "source": [
        "#find sum of array\n",
        "list1 = [12, 3, 4, 15] \n",
        "ans = sum(list1)\n",
        "print(\"sum of array:\" , ans)\n",
        " "
      ]
    },
    {
      "cell_type": "code",
      "execution_count": null,
      "metadata": {
        "id": "A6kkVdZyc0v4"
      },
      "outputs": [],
      "source": []
    },
    {
      "cell_type": "code",
      "execution_count": null,
      "metadata": {
        "colab": {
          "base_uri": "https://localhost:8080/"
        },
        "id": "Sf1X_IhMrEbQ",
        "outputId": "94deccbe-1d18-41d4-cedb-23da888870dd"
      },
      "outputs": [
        {
          "name": "stdout",
          "output_type": "stream",
          "text": [
            "Largest in given array  443\n"
          ]
        }
      ],
      "source": [
        "## Python3 program to find maximum\n",
        "# in arr[] of size n\n",
        "def largest(arr, n):\n",
        "  arr.sort()\n",
        "  return arr[n-1]\n",
        "arr = [10,23,4,432,443]\n",
        "n= len(arr)\n",
        "Ans = largest(arr, n)\n",
        "print(\"Largest in given array \", Ans)"
      ]
    },
    {
      "cell_type": "code",
      "execution_count": null,
      "metadata": {
        "colab": {
          "base_uri": "https://localhost:8080/"
        },
        "id": "jz5Qrf4BtAEh",
        "outputId": "2d6806c6-ae1e-4046-8df5-725bd7da756a"
      },
      "outputs": [
        {
          "name": "stdout",
          "output_type": "stream",
          "text": [
            "[2, 4, 6, 7, 8]\n",
            "Rotated list is\n",
            "[6, 7, 8, 2, 4]\n"
          ]
        }
      ],
      "source": [
        "# Python program using the List\n",
        "# slicing approach to rotate the array\n",
        "def rotatelist(arr,d,n):\n",
        "  arr[:]=arr[d:n]+arr[0:d]\n",
        "  return arr\n",
        "arr = [2,4,6,7,8]\n",
        "print(arr)\n",
        "print(\"Rotated list is\")\n",
        "print(rotatelist(arr,2,len(arr)))\n",
        "  "
      ]
    },
    {
      "cell_type": "code",
      "execution_count": null,
      "metadata": {
        "id": "F2C1AapSu6oH"
      },
      "outputs": [],
      "source": [
        "#Reversal algorithm for array rotation\n",
        "def leftRotate(arr, d):\n",
        "    n = len(arr)\n",
        "    rverseArray(arr, 0, d-1)\n",
        "    rverseArray(arr, d, n-1)  #doubt\n",
        "    rverseArray(arr, 0, n-1)"
      ]
    },
    {
      "cell_type": "code",
      "execution_count": null,
      "metadata": {
        "colab": {
          "base_uri": "https://localhost:8080/"
        },
        "id": "LpalUuCRvVQV",
        "outputId": "a9992346-a493-447d-9065-80e6c65a73d2"
      },
      "outputs": [
        {
          "name": "stdout",
          "output_type": "stream",
          "text": [
            "2 4 55 66 69 12 10 "
          ]
        }
      ],
      "source": [
        "#split the array and add the first part to the end\n",
        "def splitArr(a, n, k):\n",
        "  b = a[:k]\n",
        "  return (a[k::]+b[::])\n",
        "arr = [12,10,2,4,55,66,69]\n",
        "n=len(arr)\n",
        "position=2\n",
        "arr = splitArr(arr, n, position)\n",
        "for i in range(0,n):\n",
        "  print(arr[i], end=' ')"
      ]
    },
    {
      "cell_type": "code",
      "execution_count": null,
      "metadata": {
        "colab": {
          "base_uri": "https://localhost:8080/"
        },
        "id": "MQ0fQWxOxB5y",
        "outputId": "99f922ea-ab39-4375-e521-5b07793c48e0"
      },
      "outputs": [
        {
          "name": "stdout",
          "output_type": "stream",
          "text": [
            "9\n"
          ]
        }
      ],
      "source": [
        "#find remainder of array multiplication diveded by n\n",
        "arr = [100, 10, 5, 25, 35, 14];lens = len(arr);n = 11\n",
        "mul = 1\n",
        "for i in range(lens):\n",
        "  mul = (mul * (arr[i]%n)) % n\n",
        "print(mul % n)"
      ]
    },
    {
      "cell_type": "code",
      "execution_count": null,
      "metadata": {
        "colab": {
          "base_uri": "https://localhost:8080/"
        },
        "id": "p5LAVn1ix-9C",
        "outputId": "8c7d159f-3140-4777-8400-da562280a6b8"
      },
      "outputs": [
        {
          "name": "stdout",
          "output_type": "stream",
          "text": [
            "True\n"
          ]
        }
      ],
      "source": [
        "#check if given array is monotonic\n",
        "def isMonotonic(A):\n",
        "    x, y = [], []\n",
        "    x.extend(A)\n",
        "    y.extend(A)\n",
        "    x.sort()\n",
        "    y.sort(reverse=True)\n",
        "    if(x == A or y == A):\n",
        "        return True\n",
        "    return False\n",
        " \n",
        " \n",
        "# Driver program\n",
        "A = [6, 5, 4, 4]\n",
        " \n",
        "# Print required result\n",
        "print(isMonotonic(A))"
      ]
    },
    {
      "cell_type": "markdown",
      "metadata": {
        "id": "DVa9PsGKdNg3"
      },
      "source": [
        "# **LIST PROGRAMS:**"
      ]
    },
    {
      "cell_type": "code",
      "execution_count": null,
      "metadata": {
        "colab": {
          "base_uri": "https://localhost:8080/"
        },
        "id": "aOvFor8GdMcH",
        "outputId": "7e109288-2a19-4667-af7d-14530df94a5e"
      },
      "outputs": [
        {
          "name": "stdout",
          "output_type": "stream",
          "text": [
            "[5, 2, 3, 4, 1]\n"
          ]
        }
      ],
      "source": [
        "#   swap first and last element of a list\n",
        "list = [1,2,3,4,5]\n",
        "list[0],list[-1] = list[-1],list[0]\n",
        "print(list)"
      ]
    },
    {
      "cell_type": "code",
      "execution_count": null,
      "metadata": {
        "colab": {
          "base_uri": "https://localhost:8080/"
        },
        "id": "WRa-fcayeWwS",
        "outputId": "10180425-5604-436d-967d-973342358937"
      },
      "outputs": [
        {
          "name": "stdout",
          "output_type": "stream",
          "text": [
            "[23, 65, 90, 19]\n"
          ]
        }
      ],
      "source": [
        "#Python program to swap two elements in a list\n",
        "list1 = [23, 65, 19, 90]\n",
        "pos1,pos2 = 2,3\n",
        "list1[pos1],list1[pos2]=list1[pos2],list1[pos1]\n",
        "print(list1)"
      ]
    },
    {
      "cell_type": "code",
      "execution_count": null,
      "metadata": {
        "colab": {
          "base_uri": "https://localhost:8080/"
        },
        "id": "CRvrqFR4fX9q",
        "outputId": "d78791ba-c429-4223-f2a4-9410b8a8d45f"
      },
      "outputs": [
        {
          "name": "stdout",
          "output_type": "stream",
          "text": [
            "The length of list is:  4\n"
          ]
        }
      ],
      "source": [
        "#Ways to find length of list\n",
        "list2 =len([23, 65, 19, 90])\n",
        " \n",
        "print(\"The length of list is: \", list2)\n",
        "\n",
        " "
      ]
    },
    {
      "cell_type": "code",
      "execution_count": null,
      "metadata": {
        "colab": {
          "base_uri": "https://localhost:8080/"
        },
        "id": "QlAU-bFegBN7",
        "outputId": "309679d8-db2b-4775-cf99-94d0945a8456"
      },
      "outputs": [
        {
          "name": "stdout",
          "output_type": "stream",
          "text": [
            "The length of list is:  4\n"
          ]
        }
      ],
      "source": [
        "a = []\n",
        "a.append(\"Hello\")\n",
        "a.append(\"Geeks\")\n",
        "a.append(\"For\")\n",
        "a.append(\"Geeks\")\n",
        "print(\"The length of list is: \", len(a))"
      ]
    },
    {
      "cell_type": "code",
      "execution_count": null,
      "metadata": {
        "colab": {
          "base_uri": "https://localhost:8080/"
        },
        "id": "HaL55ngNgcqm",
        "outputId": "dbc78543-2e60-4ccb-a820-10fcb097dad8"
      },
      "outputs": [
        {
          "name": "stdout",
          "output_type": "stream",
          "text": [
            "not exist\n"
          ]
        }
      ],
      "source": [
        "#Check if element exists in list in Python\n",
        "lst=[ 1, 6, 3, 5, 3, 4 ]\n",
        "i=7\n",
        "if i in lst:\n",
        "  print(\"exist\")\n",
        "else:\n",
        "  print(\"not exist\")"
      ]
    },
    {
      "cell_type": "code",
      "execution_count": null,
      "metadata": {
        "colab": {
          "base_uri": "https://localhost:8080/"
        },
        "id": "N-SpEYHZg5-5",
        "outputId": "1d6182a9-f681-4214-de8d-95c6f5e2936f"
      },
      "outputs": [
        {
          "name": "stdout",
          "output_type": "stream",
          "text": [
            "geek before clear:  [2, 3, 5, 6]\n",
            "geek after clear:  []\n"
          ]
        }
      ],
      "source": [
        "#Different ways to clear a list in Python\n",
        "geek = [2,3,5,6]\n",
        "print(\"geek before clear: \", geek)\n",
        "geek.clear()\n",
        "print(\"geek after clear: \", geek)"
      ]
    },
    {
      "cell_type": "code",
      "execution_count": null,
      "metadata": {
        "colab": {
          "base_uri": "https://localhost:8080/"
        },
        "id": "1EcArLNeiMTc",
        "outputId": "0988b8dc-62be-4e91-fe7c-24ef4c64c461"
      },
      "outputs": [
        {
          "name": "stdout",
          "output_type": "stream",
          "text": [
            "[1, 4, 3, 2, 5]\n"
          ]
        }
      ],
      "source": [
        "#reverse list\n",
        "lis =  [1, 2, 3, 4, 5]\n",
        "print(list[::-1])"
      ]
    },
    {
      "cell_type": "code",
      "execution_count": null,
      "metadata": {
        "colab": {
          "base_uri": "https://localhost:8080/"
        },
        "id": "WvxXKwK4idFK",
        "outputId": "2f6c8b1d-3f8e-457d-c72f-38dd9c9a77c4"
      },
      "outputs": [
        {
          "name": "stdout",
          "output_type": "stream",
          "text": [
            "sum of all elements in given list: 74\n"
          ]
        }
      ],
      "source": [
        "#find sum of element\n",
        "lst1 = [11, 5, 17, 18, 23]\n",
        "total = sum(lst1)\n",
        "print(\"sum of all elements in given list:\", total)"
      ]
    },
    {
      "cell_type": "code",
      "execution_count": null,
      "metadata": {
        "colab": {
          "base_uri": "https://localhost:8080/"
        },
        "id": "Wb88USbui5om",
        "outputId": "7652f4f3-88b0-439b-8e27-7dcc4f48befd"
      },
      "outputs": [
        {
          "name": "stdout",
          "output_type": "stream",
          "text": [
            "Sum of all elements in given list:  74\n"
          ]
        }
      ],
      "source": [
        "# Python program to find sum of elements in list\n",
        "  \n",
        "total = 0\n",
        "  \n",
        "# creating a list\n",
        "list1 = [11, 5, 17, 18, 23]\n",
        "  \n",
        "# Iterate each element in list\n",
        "# and add them in variable total\n",
        "for ele in range(0, len(list1)):\n",
        "    total = total + list1[ele]\n",
        "  \n",
        "# printing total value\n",
        "print(\"Sum of all elements in given list: \", total)"
      ]
    },
    {
      "cell_type": "code",
      "execution_count": null,
      "metadata": {
        "colab": {
          "base_uri": "https://localhost:8080/"
        },
        "id": "_LMxBz7TjCH9",
        "outputId": "3e85ec04-51d6-4d79-df1e-05ccbce48b57"
      },
      "outputs": [
        {
          "name": "stdout",
          "output_type": "stream",
          "text": [
            "8\n",
            "336\n"
          ]
        }
      ],
      "source": [
        "#multiply number in list\n",
        "import numpy\n",
        "x = [1,2,4]\n",
        "y = [6,7,8]\n",
        "#using numpy.pord() to get the multiplications\n",
        "result1 = numpy.prod(x)\n",
        "result2 = numpy.prod(y)\n",
        "print(result1)\n",
        "print(result2)"
      ]
    },
    {
      "cell_type": "code",
      "execution_count": null,
      "metadata": {
        "colab": {
          "base_uri": "https://localhost:8080/"
        },
        "id": "6w_V0A8Dj8vA",
        "outputId": "9f01c895-5219-4dab-8513-599aacd1efa1"
      },
      "outputs": [
        {
          "name": "stdout",
          "output_type": "stream",
          "text": [
            "smallest elemtn is:  4\n"
          ]
        }
      ],
      "source": [
        "#find smallest number in list\n",
        "a = [10, 20, 4, 45, 99]\n",
        "a.sort()\n",
        "print(\"smallest elemtn is: \", a[0])"
      ]
    },
    {
      "cell_type": "code",
      "execution_count": null,
      "metadata": {
        "colab": {
          "base_uri": "https://localhost:8080/"
        },
        "id": "p5kG8H0Ykliq",
        "outputId": "ababdaca-f422-4c88-f410-382a39306011"
      },
      "outputs": [
        {
          "name": "stdout",
          "output_type": "stream",
          "text": [
            "largest elemnt is :  99\n"
          ]
        }
      ],
      "source": [
        "#find largest number in list\n",
        "a = [10, 20, 4, 45, 99]\n",
        "a.sort()\n",
        "print(\"largest elemnt is : \",a[-1])"
      ]
    },
    {
      "cell_type": "code",
      "execution_count": null,
      "metadata": {
        "colab": {
          "base_uri": "https://localhost:8080/"
        },
        "id": "w-CZxVrLk0Z9",
        "outputId": "cad7963a-a877-4591-af84-26941d7ac8f9"
      },
      "outputs": [
        {
          "name": "stdout",
          "output_type": "stream",
          "text": [
            "largest element is:  45\n"
          ]
        }
      ],
      "source": [
        "#find 2nd largest number in list\n",
        "a = [10, 20, 4, 45, 99]\n",
        "a.sort()\n",
        "print(\"largest element is: \",a[-2])"
      ]
    },
    {
      "cell_type": "code",
      "execution_count": null,
      "metadata": {
        "colab": {
          "base_uri": "https://localhost:8080/"
        },
        "id": "0Txvapo0lCU-",
        "outputId": "1a535cec-ee75-43f4-b7cb-1b36ebfffe47"
      },
      "outputs": [
        {
          "name": "stdout",
          "output_type": "stream",
          "text": [
            "[298, 900, 1000, 3579]\n"
          ]
        }
      ],
      "source": [
        "#find N largest elements from a list\n",
        "l = [1000, 298, 3579, 100, 200, -45, 900]\n",
        "n = 4\n",
        "l.sort()\n",
        "print(l[-n:])"
      ]
    },
    {
      "cell_type": "code",
      "execution_count": null,
      "metadata": {
        "colab": {
          "base_uri": "https://localhost:8080/"
        },
        "id": "-vJNKoU6ndGe",
        "outputId": "bf42751b-1ec7-45d3-cdfe-381e57cccbf3"
      },
      "outputs": [
        {
          "name": "stdout",
          "output_type": "stream",
          "text": [
            "10 4 66 "
          ]
        }
      ],
      "source": [
        "#find even num\n",
        "list1 = [10, 21, 4, 45, 66, 93]\n",
        "for num in list1:\n",
        "  if num % 2 ==0:\n",
        "    print(num, end=\" \")"
      ]
    },
    {
      "cell_type": "code",
      "execution_count": null,
      "metadata": {
        "colab": {
          "base_uri": "https://localhost:8080/"
        },
        "id": "FY4V7MWlnxIk",
        "outputId": "420c7964-2929-47ca-8c70-d1c8405ce0d1"
      },
      "outputs": [
        {
          "name": "stdout",
          "output_type": "stream",
          "text": [
            "enter the number8\n",
            "16 14 12 10 8 6 4 2 "
          ]
        }
      ],
      "source": [
        "##find all even num in range\n",
        "n=int(input(\"enter the number\"))\n",
        "for i in range(n,0,-1):\n",
        "  print(i*2,end=' ')\n",
        "  "
      ]
    },
    {
      "cell_type": "code",
      "execution_count": null,
      "metadata": {
        "colab": {
          "base_uri": "https://localhost:8080/"
        },
        "id": "kuRXU7OfoSd0",
        "outputId": "6410ef29-7652-4209-c3a5-1d0a913d5239"
      },
      "outputs": [
        {
          "name": "stdout",
          "output_type": "stream",
          "text": [
            "21 45 93 "
          ]
        }
      ],
      "source": [
        "# Python program to print odd Numbers in a List\n",
        " \n",
        "list1 = [10, 21, 4, 45, 66, 93]\n",
        " \n",
        "for num in list1:\n",
        " \n",
        "    if num % 2 != 0:\n",
        "       print(num, end=\" \")"
      ]
    },
    {
      "cell_type": "code",
      "execution_count": null,
      "metadata": {
        "colab": {
          "base_uri": "https://localhost:8080/"
        },
        "id": "YGl6koTpo_Y2",
        "outputId": "a2de6c8e-baab-48dc-f153-c90bbd911085"
      },
      "outputs": [
        {
          "name": "stdout",
          "output_type": "stream",
          "text": [
            "enter number: 8\n",
            "15 13 11 9 7 5 3 1 "
          ]
        }
      ],
      "source": [
        "# Python program to print all odd Numbers in range in a List\n",
        "n=int(input(\"enter number: \"))\n",
        "for i in range(n,0,-1):\n",
        "  print(i*2-1,end=' ')"
      ]
    },
    {
      "cell_type": "code",
      "execution_count": null,
      "metadata": {
        "colab": {
          "base_uri": "https://localhost:8080/"
        },
        "id": "fLX-B2s5pS6Q",
        "outputId": "a0025528-fe34-47b9-d483-af3c3614ef32"
      },
      "outputs": [
        {
          "name": "stdout",
          "output_type": "stream",
          "text": [
            "original numbers in the list:  [10, 21, -4, -45, 66, 93]\n",
            "positive numbers in the said list: \n",
            "10 21 66 93 "
          ]
        }
      ],
      "source": [
        "#print positive numbers in a list\n",
        "list1 = [10, 21, -4, -45, 66, 93]\n",
        "print(\"original numbers in the list: \",list1)\n",
        "print(\"positive numbers in the said list: \")\n",
        "for num in list1:\n",
        "  if num > 0:\n",
        "    print(num, end = \" \")\n",
        "\n",
        " \n",
        " \n",
        " \n",
        "     "
      ]
    },
    {
      "cell_type": "code",
      "execution_count": null,
      "metadata": {
        "colab": {
          "base_uri": "https://localhost:8080/"
        },
        "id": "I7RM1gnOqEUU",
        "outputId": "e68bbd9b-9780-4d6f-9443-b13b030df7c4"
      },
      "outputs": [
        {
          "name": "stdout",
          "output_type": "stream",
          "text": [
            "original numbers in the list:  [10, 21, -4, -45, 66, 93]\n",
            "Negative numbers in the said list: \n",
            "-4 -45 "
          ]
        }
      ],
      "source": [
        "#print all negative numbers in a range\n",
        "list1 = [10, 21, -4, -45, 66, 93]\n",
        "print(\"original numbers in the list: \",list1)\n",
        "print(\"Negative numbers in the said list: \")\n",
        "for num in list1:\n",
        "  if num < 0:\n",
        "    print(num, end = \" \")\n"
      ]
    },
    {
      "cell_type": "code",
      "execution_count": null,
      "metadata": {
        "colab": {
          "base_uri": "https://localhost:8080/"
        },
        "id": "-EDvZBnGs45r",
        "outputId": "a3d2983d-7447-4545-edca-802424f60d4c"
      },
      "outputs": [
        {
          "name": "stdout",
          "output_type": "stream",
          "text": [
            "new list after removing all even numbers:  [11, 5, 17, 23, 50]\n",
            "new list after removing all even numbers:  [11, 5, 17, 23]\n"
          ]
        }
      ],
      "source": [
        "#Remove multiple elements from a list in Python\n",
        "list1 = [11, 5, 17, 18, 23, 50] \n",
        "for ele in list1:\n",
        "  if ele % 2 == 0:\n",
        "    list1.remove(ele)\n",
        "    print(\"new list after removing all even numbers: \", list1)"
      ]
    },
    {
      "cell_type": "code",
      "execution_count": null,
      "metadata": {
        "colab": {
          "base_uri": "https://localhost:8080/"
        },
        "id": "L2qbzrAltyP7",
        "outputId": "442e120d-b5d8-460d-d785-f7614a7b7894"
      },
      "outputs": [
        {
          "name": "stdout",
          "output_type": "stream",
          "text": [
            "new list after removing all even numbers  [5, 17, 18, 23, 50]\n",
            "new list after removing all even numbers  [5, 18, 23, 50]\n",
            "new list after removing all even numbers  [5, 18, 50]\n"
          ]
        }
      ],
      "source": [
        "list1 = [11, 5, 17, 18, 23, 50] \n",
        "for ele in list1:\n",
        "  if ele%2 != 0:\n",
        "    list1.remove(ele)\n",
        "    print(\"new list after removing all even numbers \", list1)"
      ]
    },
    {
      "cell_type": "code",
      "execution_count": null,
      "metadata": {
        "colab": {
          "base_uri": "https://localhost:8080/"
        },
        "id": "CXLcScs1uFxK",
        "outputId": "91ac2bdf-c5a2-4fad-e45e-f7704a66e882"
      },
      "outputs": [
        {
          "name": "stdout",
          "output_type": "stream",
          "text": [
            "the original list is : [5, 6, [], 3, [], [], 9]\n",
            "list after empty list removal: [5, 6, 3, 9]\n"
          ]
        }
      ],
      "source": [
        "#Remove empty List from List\n",
        "test_list = [5, 6, [], 3, [], [], 9]\n",
        "print(\"the original list is : \"+ str(test_list))\n",
        " \n",
        "[ele for ele in test_list if ele != []]\n",
        "print(\"list after empty list removal: \" + str(res))"
      ]
    },
    {
      "cell_type": "code",
      "execution_count": null,
      "metadata": {
        "colab": {
          "base_uri": "https://localhost:8080/"
        },
        "id": "577OLdNSulUi",
        "outputId": "93ba2fa3-18c9-44af-f916-6da828e66dc1"
      },
      "outputs": [
        {
          "name": "stdout",
          "output_type": "stream",
          "text": [
            "[1, 2, [3, 5], 4]\n"
          ]
        }
      ],
      "source": [
        "#Python | Cloning or Copying a list\n",
        "\n",
        "import copy\n",
        "li1 = [1, 2, [3,5], 4]\n",
        "li3 = copy.deepcopy(li1)\n",
        "print(li3)"
      ]
    },
    {
      "cell_type": "code",
      "execution_count": null,
      "metadata": {
        "colab": {
          "base_uri": "https://localhost:8080/"
        },
        "id": "TysuqANHypWL",
        "outputId": "ef6b98d6-819b-45d0-bc5a-676248aa0b4e"
      },
      "outputs": [
        {
          "data": {
            "text/plain": [
              "5"
            ]
          },
          "execution_count": 50,
          "metadata": {},
          "output_type": "execute_result"
        }
      ],
      "source": [
        "# Count occurrences of an element in a list\n",
        "list2 = [3,3,3,3,56,7765,54,434,3,65]\n",
        "list2.count(3)"
      ]
    },
    {
      "cell_type": "code",
      "execution_count": null,
      "metadata": {
        "colab": {
          "base_uri": "https://localhost:8080/"
        },
        "id": "I5zwjGUi0qgj",
        "outputId": "8fc4c0ce-4cd0-46ff-c53a-de3fcd65f029"
      },
      "outputs": [
        {
          "name": "stdout",
          "output_type": "stream",
          "text": [
            "[('ram', '15', '8'), ('laxman', 'sita'), ('krishna', 'akbar', '45'), ('', '')]\n"
          ]
        }
      ],
      "source": [
        "#Remove empty tuples from a list\n",
        "tuples = [(), ('ram', '15', '8'), (), ('laxman', 'sita'),\n",
        "          ('krishna', 'akbar', '45'), ('', ''), ()]\n",
        "res = [t for i, t in enumerate(tuples) if t]\n",
        "print(res)"
      ]
    },
    {
      "cell_type": "code",
      "execution_count": null,
      "metadata": {
        "colab": {
          "base_uri": "https://localhost:8080/"
        },
        "id": "Kg16TAgx2Fni",
        "outputId": "4a5c984a-0601-4894-e1f8-09a829766e9a"
      },
      "outputs": [
        {
          "name": "stdout",
          "output_type": "stream",
          "text": [
            "[1, 2, 5, 9]\n"
          ]
        }
      ],
      "source": [
        "#Program to print duplicates from a list of integers\n",
        "lis = [1, 2, 1, 2, 3, 4, 5, 1, 1, 2, 5, 6, 7, 8, 9, 9]\n",
        "uniqueList = []\n",
        "duplicateList = []\n",
        "for i in lis:\n",
        "  if i not in uniqueList:\n",
        "    uniqueList.append(i)\n",
        "  elif i not in duplicateList:\n",
        "    duplicateList.append(i)\n",
        "print(duplicateList)"
      ]
    },
    {
      "cell_type": "code",
      "execution_count": null,
      "metadata": {
        "colab": {
          "base_uri": "https://localhost:8080/"
        },
        "id": "lMHBbKEk23F6",
        "outputId": "0f95b34f-0352-4047-f60c-ff1699e94c06"
      },
      "outputs": [
        {
          "name": "stdout",
          "output_type": "stream",
          "text": [
            "[9]\n"
          ]
        }
      ],
      "source": [
        "#2\n",
        "list = [1, 2, 1, 2, 3, 4, 5, 1, 1, 2, 5, 6, 7, 8, 9, 9]\n",
        "new = []\n",
        "for a in list:\n",
        "  n = list.count(a)\n",
        "if n > 1:\n",
        "  if new.count(a) == 0:\n",
        "    new.append(a)\n",
        "print(new)"
      ]
    },
    {
      "cell_type": "code",
      "execution_count": null,
      "metadata": {
        "colab": {
          "base_uri": "https://localhost:8080/"
        },
        "id": "ctcl1Yzt3Uus",
        "outputId": "1d08376c-6334-4f5c-e8d6-051b3e48421d"
      },
      "outputs": [
        {
          "name": "stdout",
          "output_type": "stream",
          "text": [
            "[10, 30, 60, 100, 150]\n"
          ]
        }
      ],
      "source": [
        "#find Cumulative sum of a list\n",
        "list = [10,20,30,40,50]\n",
        "new_list = []\n",
        "j=0\n",
        "for i in range(0,len(list)):\n",
        "  j+=list[i]\n",
        "  new_list.append(j)\n",
        "print(new_list)"
      ]
    },
    {
      "cell_type": "code",
      "execution_count": null,
      "metadata": {
        "colab": {
          "base_uri": "https://localhost:8080/"
        },
        "id": "28sXLsgY6sdw",
        "outputId": "0431d361-bea2-4534-d953-f58b81a15e43"
      },
      "outputs": [
        {
          "name": "stdout",
          "output_type": "stream",
          "text": [
            "the original list is : [12, 17, 23, 53]\n",
            "list integer summation : [3, 8, 5, 8]\n"
          ]
        }
      ],
      "source": [
        "#Sum of number digits in List\n",
        "test_list = [12, 67, 98, 34]\n",
        "test_list = [12,17,23,53]\n",
        "print(\"the original list is : \" + str(test_list))\n",
        "res = []\n",
        "for ele in test_list:\n",
        "  sum = 0\n",
        "  for digit in str(ele):\n",
        "    sum += int(digit)\n",
        "  res.append(sum)\n",
        "print(\"list integer summation : \" + str(res))"
      ]
    },
    {
      "cell_type": "code",
      "execution_count": null,
      "metadata": {
        "colab": {
          "base_uri": "https://localhost:8080/"
        },
        "id": "wnyru3PA8XHA",
        "outputId": "ba3a529d-927c-40b8-8e93-d953d6e56227"
      },
      "outputs": [
        {
          "name": "stdout",
          "output_type": "stream",
          "text": [
            "[1, 2, 3]\n",
            "[4, 5, 6]\n",
            "[7, 8, 9]\n"
          ]
        }
      ],
      "source": [
        "#Break a list into chunks of size N in Python\n",
        "my_list = [1, 2, 3, 4, 5,\n",
        "           6, 7, 8, 9]\n",
        "start = 0\n",
        "end = len(my_list)\n",
        "step = 3\n",
        "for i in range(start, end, step):\n",
        "    x = i\n",
        "    print(my_list[x:x+step])"
      ]
    },
    {
      "cell_type": "code",
      "execution_count": null,
      "metadata": {
        "colab": {
          "base_uri": "https://localhost:8080/",
          "height": 217
        },
        "id": "0iNX_ZOo8iYi",
        "outputId": "6e4ae8e7-d488-4343-b286-5a9fc138e88a"
      },
      "outputs": [
        {
          "ename": "TypeError",
          "evalue": "ignored",
          "output_type": "error",
          "traceback": [
            "\u001b[0;31m---------------------------------------------------------------------------\u001b[0m",
            "\u001b[0;31mTypeError\u001b[0m                                 Traceback (most recent call last)",
            "\u001b[0;32m<ipython-input-63-a7eb456cbfb4>\u001b[0m in \u001b[0;36m<cell line: 7>\u001b[0;34m()\u001b[0m\n\u001b[1;32m      5\u001b[0m \u001b[0mlist2\u001b[0m \u001b[0;34m=\u001b[0m \u001b[0;34m[\u001b[0m\u001b[0;36m0\u001b[0m\u001b[0;34m,\u001b[0m \u001b[0;36m1\u001b[0m\u001b[0;34m,\u001b[0m \u001b[0;36m1\u001b[0m\u001b[0;34m,\u001b[0m \u001b[0;36m0\u001b[0m\u001b[0;34m,\u001b[0m \u001b[0;36m1\u001b[0m\u001b[0;34m,\u001b[0m \u001b[0;36m2\u001b[0m\u001b[0;34m,\u001b[0m \u001b[0;36m2\u001b[0m\u001b[0;34m,\u001b[0m \u001b[0;36m0\u001b[0m\u001b[0;34m,\u001b[0m \u001b[0;36m1\u001b[0m\u001b[0;34m]\u001b[0m\u001b[0;34m\u001b[0m\u001b[0;34m\u001b[0m\u001b[0m\n\u001b[1;32m      6\u001b[0m \u001b[0md\u001b[0m \u001b[0;34m=\u001b[0m \u001b[0mOrderedDict\u001b[0m\u001b[0;34m(\u001b[0m\u001b[0mzip\u001b[0m\u001b[0;34m(\u001b[0m\u001b[0mlist1\u001b[0m\u001b[0;34m,\u001b[0m \u001b[0mlist2\u001b[0m\u001b[0;34m)\u001b[0m\u001b[0;34m)\u001b[0m\u001b[0;34m\u001b[0m\u001b[0;34m\u001b[0m\u001b[0m\n\u001b[0;32m----> 7\u001b[0;31m \u001b[0mres\u001b[0m \u001b[0;34m=\u001b[0m \u001b[0mlist\u001b[0m\u001b[0;34m(\u001b[0m\u001b[0mOrderedDict\u001b[0m\u001b[0;34m(\u001b[0m\u001b[0msorted\u001b[0m\u001b[0;34m(\u001b[0m\u001b[0md\u001b[0m\u001b[0;34m.\u001b[0m\u001b[0mitems\u001b[0m\u001b[0;34m(\u001b[0m\u001b[0;34m)\u001b[0m\u001b[0;34m,\u001b[0m \u001b[0mkey\u001b[0m\u001b[0;34m=\u001b[0m\u001b[0;32mlambda\u001b[0m \u001b[0mx\u001b[0m\u001b[0;34m:\u001b[0m \u001b[0mx\u001b[0m\u001b[0;34m[\u001b[0m\u001b[0;36m1\u001b[0m\u001b[0;34m]\u001b[0m\u001b[0;34m)\u001b[0m\u001b[0;34m)\u001b[0m\u001b[0;34m)\u001b[0m\u001b[0;34m\u001b[0m\u001b[0;34m\u001b[0m\u001b[0m\n\u001b[0m\u001b[1;32m      8\u001b[0m \u001b[0mprint\u001b[0m\u001b[0;34m(\u001b[0m\u001b[0mres\u001b[0m\u001b[0;34m)\u001b[0m\u001b[0;34m\u001b[0m\u001b[0;34m\u001b[0m\u001b[0m\n",
            "\u001b[0;31mTypeError\u001b[0m: 'list' object is not callable"
          ]
        }
      ],
      "source": [
        "#Sort the values of first list using second list in Python\n",
        "# Python program to sort values of first list based on second list\n",
        "from collections import OrderedDict\n",
        "list1 = [\"a\", \"b\", \"c\", \"d\", \"e\", \"f\", \"g\", \"h\", \"i\"]\n",
        "list2 = [0, 1, 1, 0, 1, 2, 2, 0, 1]\n",
        "d = OrderedDict(zip(list1, list2))\n",
        "res = list(OrderedDict(sorted(d.items(), key=lambda x: x[1])))\n",
        "print(res)"
      ]
    },
    {
      "cell_type": "markdown",
      "metadata": {
        "id": "309_FqqIONbV"
      },
      "source": []
    },
    {
      "cell_type": "markdown",
      "metadata": {
        "id": "L73uhxK8OQhc"
      },
      "source": [
        "# Matrix Programs:"
      ]
    },
    {
      "cell_type": "code",
      "execution_count": null,
      "metadata": {
        "colab": {
          "base_uri": "https://localhost:8080/"
        },
        "id": "ewPsZDi5OVZB",
        "outputId": "4cd912b3-9e15-4207-b498-17004aa0ef76"
      },
      "outputs": [
        {
          "name": "stdout",
          "output_type": "stream",
          "text": [
            "[10, 10, 10]\n",
            "[10, 10, 10]\n",
            "[10, 10, 10]\n"
          ]
        }
      ],
      "source": [
        "#Python program to add two Matrices\n",
        "## Program to add two matrices using nested loop\n",
        "\n",
        "X = [[1,2,3],\n",
        "    [4 ,5,6],\n",
        "    [7 ,8,9]]\n",
        " \n",
        "Y = [[9,8,7],\n",
        "    [6,5,4],\n",
        "    [3,2,1]]\n",
        " \n",
        " \n",
        "result = [[0,0,0],\n",
        "        [0,0,0],\n",
        "        [0,0,0]]\n",
        " \n",
        "# iterate through rows\n",
        "for i in range(len(X)):  \n",
        "# iterate through columns\n",
        "    for j in range(len(X[0])):\n",
        "        result[i][j] = X[i][j] + Y[i][j]\n",
        " \n",
        "for r in result:\n",
        "    print(r)"
      ]
    },
    {
      "cell_type": "code",
      "execution_count": null,
      "metadata": {
        "colab": {
          "base_uri": "https://localhost:8080/"
        },
        "id": "8V8K1uZmMa3D",
        "outputId": "9b3a8a84-6319-469c-b081-44f4000c826a"
      },
      "outputs": [
        {
          "name": "stdout",
          "output_type": "stream",
          "text": [
            "[60, 0, 0, 0]\n",
            "[0, 0, 0, 0]\n",
            "[0, 0, 0, 0]\n",
            "[102, 0, 0, 0]\n",
            "[0, 0, 0, 0]\n",
            "[0, 0, 0, 0]\n",
            "[114, 0, 0, 0]\n",
            "[0, 0, 0, 0]\n",
            "[0, 0, 0, 0]\n",
            "[114, 96, 0, 0]\n",
            "[0, 0, 0, 0]\n",
            "[0, 0, 0, 0]\n",
            "[114, 145, 0, 0]\n",
            "[0, 0, 0, 0]\n",
            "[0, 0, 0, 0]\n",
            "[114, 160, 0, 0]\n",
            "[0, 0, 0, 0]\n",
            "[0, 0, 0, 0]\n",
            "[114, 160, 12, 0]\n",
            "[0, 0, 0, 0]\n",
            "[0, 0, 0, 0]\n",
            "[114, 160, 33, 0]\n",
            "[0, 0, 0, 0]\n",
            "[0, 0, 0, 0]\n",
            "[114, 160, 60, 0]\n",
            "[0, 0, 0, 0]\n",
            "[0, 0, 0, 0]\n",
            "[114, 160, 60, 24]\n",
            "[0, 0, 0, 0]\n",
            "[0, 0, 0, 0]\n",
            "[114, 160, 60, 24]\n",
            "[0, 0, 0, 0]\n",
            "[0, 0, 0, 0]\n",
            "[114, 160, 60, 27]\n",
            "[0, 0, 0, 0]\n",
            "[0, 0, 0, 0]\n",
            "[114, 160, 60, 27]\n",
            "[20, 0, 0, 0]\n",
            "[0, 0, 0, 0]\n",
            "[114, 160, 60, 27]\n",
            "[50, 0, 0, 0]\n",
            "[0, 0, 0, 0]\n",
            "[114, 160, 60, 27]\n",
            "[74, 0, 0, 0]\n",
            "[0, 0, 0, 0]\n",
            "[114, 160, 60, 27]\n",
            "[74, 32, 0, 0]\n",
            "[0, 0, 0, 0]\n",
            "[114, 160, 60, 27]\n",
            "[74, 67, 0, 0]\n",
            "[0, 0, 0, 0]\n",
            "[114, 160, 60, 27]\n",
            "[74, 97, 0, 0]\n",
            "[0, 0, 0, 0]\n",
            "[114, 160, 60, 27]\n",
            "[74, 97, 4, 0]\n",
            "[0, 0, 0, 0]\n",
            "[114, 160, 60, 27]\n",
            "[74, 97, 19, 0]\n",
            "[0, 0, 0, 0]\n",
            "[114, 160, 60, 27]\n",
            "[74, 97, 73, 0]\n",
            "[0, 0, 0, 0]\n",
            "[114, 160, 60, 27]\n",
            "[74, 97, 73, 8]\n",
            "[0, 0, 0, 0]\n",
            "[114, 160, 60, 27]\n",
            "[74, 97, 73, 8]\n",
            "[0, 0, 0, 0]\n",
            "[114, 160, 60, 27]\n",
            "[74, 97, 73, 14]\n",
            "[0, 0, 0, 0]\n",
            "[114, 160, 60, 27]\n",
            "[74, 97, 73, 14]\n",
            "[35, 0, 0, 0]\n",
            "[114, 160, 60, 27]\n",
            "[74, 97, 73, 14]\n",
            "[83, 0, 0, 0]\n",
            "[114, 160, 60, 27]\n",
            "[74, 97, 73, 14]\n",
            "[119, 0, 0, 0]\n",
            "[114, 160, 60, 27]\n",
            "[74, 97, 73, 14]\n",
            "[119, 56, 0, 0]\n",
            "[114, 160, 60, 27]\n",
            "[74, 97, 73, 14]\n",
            "[119, 112, 0, 0]\n",
            "[114, 160, 60, 27]\n",
            "[74, 97, 73, 14]\n",
            "[119, 157, 0, 0]\n",
            "[114, 160, 60, 27]\n",
            "[74, 97, 73, 14]\n",
            "[119, 157, 7, 0]\n",
            "[114, 160, 60, 27]\n",
            "[74, 97, 73, 14]\n",
            "[119, 157, 31, 0]\n",
            "[114, 160, 60, 27]\n",
            "[74, 97, 73, 14]\n",
            "[119, 157, 112, 0]\n",
            "[114, 160, 60, 27]\n",
            "[74, 97, 73, 14]\n",
            "[119, 157, 112, 14]\n",
            "[114, 160, 60, 27]\n",
            "[74, 97, 73, 14]\n",
            "[119, 157, 112, 14]\n",
            "[114, 160, 60, 27]\n",
            "[74, 97, 73, 14]\n",
            "[119, 157, 112, 23]\n"
          ]
        }
      ],
      "source": [
        "#Python program to multiply two matrices\n",
        "A = [[12, 7, 3],\n",
        "    [4, 5, 6],\n",
        "    [7, 8, 9]]\n",
        " \n",
        "B = [[5, 8, 1, 2],\n",
        "    [6, 7, 3, 0],\n",
        "    [4, 5, 9, 1]]\n",
        "     \n",
        "result = [[0, 0, 0, 0],\n",
        "        [0, 0, 0, 0],\n",
        "        [0, 0, 0, 0]]\n",
        "for i in range(len(A)):# iterating by row of A\n",
        "  for j in range(len(B[0])):# iterating by column by B\n",
        "    for k in range(len(B)):# iterating by rows of B\n",
        "      result[i][j] += A[i][k] * B[k][j]\n",
        "      for r in result:\n",
        "        print(r)\n",
        "       \n",
        "      \n",
        " "
      ]
    },
    {
      "cell_type": "code",
      "execution_count": null,
      "metadata": {
        "colab": {
          "base_uri": "https://localhost:8080/"
        },
        "id": "ExGP4NdgN6FU",
        "outputId": "583338e2-96f7-4870-d556-c3b87ba1706f"
      },
      "outputs": [
        {
          "name": "stdout",
          "output_type": "stream",
          "text": [
            "The original list: [[1, 4, 5], [7, 3], [4], [46, 7, 3]]\n",
            "the total element product in lists is : 1622880\n"
          ]
        }
      ],
      "source": [
        "#Matrix Product\n",
        "test_list = [[1, 4, 5], [7, 3], [4], [46, 7, 3]]\n",
        "print(\"The original list: \" + str(test_list))\n",
        "x = []\n",
        "for i in test_list:\n",
        "  x.extend(i)\n",
        "res = 1\n",
        "for j in x:\n",
        "  res *= j\n",
        "print(\"the total element product in lists is : \" + str(res))"
      ]
    },
    {
      "cell_type": "code",
      "execution_count": null,
      "metadata": {
        "colab": {
          "base_uri": "https://localhost:8080/"
        },
        "id": "WDiRlJ_ZRRr3",
        "outputId": "0638f3ad-ae10-419a-d0b1-0fc5a6309822"
      },
      "outputs": [
        {
          "name": "stdout",
          "output_type": "stream",
          "text": [
            "printing elements of first matrix\n",
            "[[1 2]\n",
            " [3 4]]\n",
            "printing elements of second matix\n",
            "[[4 5]\n",
            " [6 7]]\n",
            "adding of two matrix\n",
            "[[ 5  7]\n",
            " [ 9 11]]\n"
          ]
        }
      ],
      "source": [
        "#Adding and Subtracting Matrices in Python\n",
        "import numpy as np\n",
        "a = np.array([[1,2],[3,4]])\n",
        "b = np.array([[4,5],[6,7]])\n",
        "print(\"printing elements of first matrix\")\n",
        "print(a)\n",
        "print(\"printing elements of second matix\")\n",
        "print(b)\n",
        "print(\"adding of two matrix\")\n",
        "print(np.add(a,b))\n"
      ]
    },
    {
      "cell_type": "code",
      "execution_count": null,
      "metadata": {
        "colab": {
          "base_uri": "https://localhost:8080/"
        },
        "id": "jLdq8BTBTk3Q",
        "outputId": "82840e53-ef2a-4b7d-de55-429825abeaa1"
      },
      "outputs": [
        {
          "name": "stdout",
          "output_type": "stream",
          "text": [
            "printing elements of first matrix\n",
            "[[1 2]\n",
            " [3 4]]\n",
            "printing elements of second matix\n",
            "[[4 5]\n",
            " [6 7]]\n",
            "subtraction of two matrix\n",
            "[[-3 -3]\n",
            " [-3 -3]]\n"
          ]
        }
      ],
      "source": [
        "a = np.array([[1,2],[3,4]])\n",
        "b = np.array([[4,5],[6,7]])\n",
        "print(\"printing elements of first matrix\")\n",
        "print(a)\n",
        "print(\"printing elements of second matix\")\n",
        "print(b)\n",
        "print(\"subtraction of two matrix\")\n",
        "print(np.subtract(a,b))"
      ]
    },
    {
      "cell_type": "code",
      "execution_count": null,
      "metadata": {
        "colab": {
          "base_uri": "https://localhost:8080/"
        },
        "id": "UMr-tdURT8D9",
        "outputId": "e67ac9e6-e82b-40d0-ab4f-8cd4e9126038"
      },
      "outputs": [
        {
          "name": "stdout",
          "output_type": "stream",
          "text": [
            "[[1, 2, 3], [4, 5, 6]]\n",
            "\n",
            "\n",
            "[[1 4]\n",
            " [2 5]\n",
            " [3 6]]\n"
          ]
        }
      ],
      "source": [
        "#Transpose a matrix in Single line in Python\n",
        "import numpy\n",
        "matrix = [[1,2,3],[4,5,6]]\n",
        "print(matrix)\n",
        "print(\"\\n\")\n",
        "print(numpy.transpose(matrix))"
      ]
    },
    {
      "cell_type": "code",
      "execution_count": null,
      "metadata": {
        "colab": {
          "base_uri": "https://localhost:8080/"
        },
        "id": "Xf1AWHpSUphN",
        "outputId": "3050ba64-1498-430c-9baa-d8dfe396deaa"
      },
      "outputs": [
        {
          "name": "stdout",
          "output_type": "stream",
          "text": [
            "The dimension: 4\n",
            "The created matrix of n*n:[[1, 2, 3, 4], [5, 6, 7, 8], [9, 10, 11, 12], [13, 14, 15, 16]]\n"
          ]
        }
      ],
      "source": [
        "# Matrix creation of n*n\n",
        "n = 4\n",
        "print(\"The dimension: \" + str(n))\n",
        "res = []\n",
        "for i in range(n):\n",
        "  row =[]\n",
        "  for j in range(n):\n",
        "    row.append(1+n*i+j)\n",
        "  res.append(row)\n",
        "print(\"The created matrix of n*n:\"+str(res))"
      ]
    },
    {
      "cell_type": "code",
      "execution_count": null,
      "metadata": {
        "colab": {
          "base_uri": "https://localhost:8080/"
        },
        "id": "m3ahUvNPWCEQ",
        "outputId": "289dcdaa-5868-496c-8cf9-b3da59e35e56"
      },
      "outputs": [
        {
          "name": "stdout",
          "output_type": "stream",
          "text": [
            "The original list is: [[4, 5, 6], [8, 1, 10], [7, 12, 5]]\n",
            "the kth columnb of matrix is:[6, 10, 5]\n"
          ]
        }
      ],
      "source": [
        "#Get Kth Column of Matrix\n",
        "test_list = [[4, 5, 6], [8, 1, 10], [7, 12, 5]]\n",
        "print(\"The original list is: \" + str(test_list))\n",
        "k = 2\n",
        "res = [sub[k] for sub in test_list]\n",
        "print(\"the kth columnb of matrix is:\" + str(res))"
      ]
    },
    {
      "cell_type": "code",
      "execution_count": null,
      "metadata": {
        "colab": {
          "base_uri": "https://localhost:8080/"
        },
        "id": "er6AdYZzXt3H",
        "outputId": "52655a38-b918-4994-8d4f-fa268b933043"
      },
      "outputs": [
        {
          "name": "stdout",
          "output_type": "stream",
          "text": [
            "the original list : [['Gfg', 'good'], ['is', 'for'], ['Best']]\n",
            "list after column concatentation: ['GfgisBest', 'goodfor']\n"
          ]
        }
      ],
      "source": [
        "#Vertical Concatenation in Matrix\n",
        "test_list = [[\"Gfg\", \"good\"], [\"is\", \"for\"], [\"Best\"]]\n",
        "print(\"the original list : \" + str(test_list))\n",
        "res = []\n",
        "n = 0\n",
        "while n != len(test_list):\n",
        "  temp = ''\n",
        "  for idx in test_list:\n",
        "    try: temp = temp + idx[n]\n",
        "    except IndexError: pass\n",
        "  res.append(temp)\n",
        "  n = n+1\n",
        "res = [ele for ele in res if ele]\n",
        "print(\"list after column concatentation: \" + str(res))\n"
      ]
    },
    {
      "cell_type": "markdown",
      "metadata": {
        "id": "Y8TATR0cyj-p"
      },
      "source": [
        "# **String**"
      ]
    },
    {
      "cell_type": "code",
      "execution_count": null,
      "metadata": {
        "colab": {
          "base_uri": "https://localhost:8080/"
        },
        "id": "0bxOD15Myjqb",
        "outputId": "8eade882-c40b-4eea-80b6-29ab611fffb0"
      },
      "outputs": [
        {
          "name": "stdout",
          "output_type": "stream",
          "text": [
            "yes\n"
          ]
        }
      ],
      "source": [
        "#Python program to check if a string is palindrome or not\n",
        "x = \"malayalam\"\n",
        "w = \"\"\n",
        "for i in x:\n",
        "  w = i+w\n",
        "if (x == w):\n",
        "  print(\"yes\")\n",
        "else:\n",
        "  print(\"no\")"
      ]
    },
    {
      "cell_type": "code",
      "execution_count": null,
      "metadata": {
        "colab": {
          "base_uri": "https://localhost:8080/"
        },
        "id": "IRVAGQTBzJPS",
        "outputId": "45ccf592-54e7-4652-ebf9-21ee155aca27"
      },
      "outputs": [
        {
          "output_type": "stream",
          "name": "stdout",
          "text": [
            "yes\n"
          ]
        }
      ],
      "source": [
        "def isPalindrome(s):\n",
        "  return s == s[::-1]\n",
        "s = \"malayalam\"\n",
        "ans = isPalindrome(s)\n",
        "if ans:\n",
        "  print(\"yes\")\n",
        "else:\n",
        "  print(\"no\")\n",
        "  "
      ]
    },
    {
      "cell_type": "code",
      "source": [
        "#Python program to check whether the string is Symmetrical or Palindrome\n",
        "string = 'amaama'\n",
        "half = int(len(string)/2)\n",
        "first_str = string[:half]\n",
        "second_str = string[half:]\n",
        "\n",
        "if first_str == second_str:\n",
        "  print(string, 'string is symmetrical')\n",
        "else:\n",
        "  print(string, 'string is not symmetrical')\n",
        "if first_str == second_str[::-1]:# join(reversed(second_str))\n",
        "  print(string, 'string is palindrome')\n",
        "else:\n",
        "  print(string, 'string is not palindrome')"
      ],
      "metadata": {
        "colab": {
          "base_uri": "https://localhost:8080/"
        },
        "id": "NAPqNNTf1Bls",
        "outputId": "8a507c72-2be5-4a08-fe93-7276f2d46804"
      },
      "execution_count": null,
      "outputs": [
        {
          "output_type": "stream",
          "name": "stdout",
          "text": [
            "amaama string is symmetrical\n",
            "amaama string is palindrome\n"
          ]
        }
      ]
    },
    {
      "cell_type": "code",
      "source": [
        "#Reverse words in a given String in Python\n",
        "string = \"geeks quiz practice code\"\n",
        "stack = []\n",
        "for word in string.split():\n",
        "  stack.append(word)\n",
        "reversed_words = []\n",
        "while stack:\n",
        "  reversed_words.append(stack.pop())\n",
        "reversed_string = \" \".join(reversed_words)\n",
        "print(reversed_string)"
      ],
      "metadata": {
        "colab": {
          "base_uri": "https://localhost:8080/"
        },
        "id": "P0rzdKKR2id9",
        "outputId": "81af8791-aa89-4b85-b386-5bdd0697a8d6"
      },
      "execution_count": null,
      "outputs": [
        {
          "output_type": "stream",
          "name": "stdout",
          "text": [
            "code practice quiz geeks\n"
          ]
        }
      ]
    },
    {
      "cell_type": "code",
      "source": [
        "#Ways to remove i’th character from string in Python\n",
        "test_str = \"Geaksforgeeks\"\n",
        "new_str = \"\"\n",
        "for i in range(len(test_str)):\n",
        "  if i != 2:\n",
        "    new_str = new_str + test_str[i]\n",
        "print(\"the string after removal of i'th character :\" + new_str)"
      ],
      "metadata": {
        "id": "WmVmKIFF5rcO",
        "colab": {
          "base_uri": "https://localhost:8080/"
        },
        "outputId": "44ac648c-03d3-4c06-8d36-0bc39904c54c"
      },
      "execution_count": null,
      "outputs": [
        {
          "output_type": "stream",
          "name": "stdout",
          "text": [
            "the string after removal of i'th character :a\n"
          ]
        }
      ]
    },
    {
      "cell_type": "code",
      "source": [
        "#Check if a Substring is Present in a Given String\n",
        "myst = \"A geek in need is a geek indeed\"\n",
        "if \"need\" in myst:\n",
        "  print(\"yes! it is present in the string\")\n",
        "else:\n",
        "  print(\"no! it is not present\")"
      ],
      "metadata": {
        "colab": {
          "base_uri": "https://localhost:8080/"
        },
        "id": "3LNJMdNmJv53",
        "outputId": "b1cdf78d-e4d7-43e9-bdae-48344e34c9b6"
      },
      "execution_count": null,
      "outputs": [
        {
          "output_type": "stream",
          "name": "stdout",
          "text": [
            "yes! it is present in the string\n"
          ]
        }
      ]
    },
    {
      "cell_type": "code",
      "source": [
        "# Words Frequency in String Shorthands\n",
        "string=\" This tutorial for Python tutorial\"\n",
        "print(string) \n",
        "\n",
        "# dictionary and count() and split()\n",
        "word= {key: string.count(key) for key in string.split()}\n",
        "\n",
        "# print result\n",
        "print(\"Words in the string\")\n",
        "print(word)"
      ],
      "metadata": {
        "colab": {
          "base_uri": "https://localhost:8080/"
        },
        "id": "Xn1xVEG5MEKV",
        "outputId": "e62a4dfb-fe83-4070-b2a7-fdf61d8c90c1"
      },
      "execution_count": null,
      "outputs": [
        {
          "output_type": "stream",
          "name": "stdout",
          "text": [
            " This tutorial for Python tutorial\n",
            "Words in the string\n",
            "{'This': 1, 'tutorial': 2, 'for': 1, 'Python': 1}\n"
          ]
        }
      ]
    },
    {
      "cell_type": "code",
      "source": [
        "#Convert Snake case to Pascal case\n",
        "string= \"program_tutorial\"\n",
        "print(\"Snake case: \",string)\n",
        "pascal= string.replace('_',' ').title()\n",
        "pascal= pascal.replace(' ','')\n",
        "print(\"Pascal case: \",pascal)\n"
      ],
      "metadata": {
        "colab": {
          "base_uri": "https://localhost:8080/"
        },
        "id": "0AEL6ZL8Oi9C",
        "outputId": "48056b2a-2c14-4f09-8d35-1d380d4069f3"
      },
      "execution_count": null,
      "outputs": [
        {
          "output_type": "stream",
          "name": "stdout",
          "text": [
            "Snake case:  program_tutorial\n",
            "Pascal case:  ProgramTutorial\n"
          ]
        }
      ]
    },
    {
      "cell_type": "code",
      "source": [
        "#Find length of a string in python 6 ways\n",
        "str = \"Neha\"\n",
        "print(len(str))"
      ],
      "metadata": {
        "id": "15Y40CpiPMvl",
        "colab": {
          "base_uri": "https://localhost:8080/"
        },
        "outputId": "daf134fe-6964-4b08-d37a-afd8378cc58b"
      },
      "execution_count": null,
      "outputs": [
        {
          "output_type": "stream",
          "name": "stdout",
          "text": [
            "4\n"
          ]
        }
      ]
    },
    {
      "cell_type": "code",
      "source": [
        "#2\n",
        "def findlen(str):\n",
        "  counter = 0\n",
        "  for i in str:\n",
        "    counter += 1\n",
        "  return counter\n",
        "str = \"Shivam\"\n",
        "print((findlen(str)))"
      ],
      "metadata": {
        "colab": {
          "base_uri": "https://localhost:8080/"
        },
        "id": "xzDONQjc_lEi",
        "outputId": "6a42aa02-1571-456c-8b84-5a22e826b285"
      },
      "execution_count": null,
      "outputs": [
        {
          "output_type": "stream",
          "name": "stdout",
          "text": [
            "6\n"
          ]
        }
      ]
    },
    {
      "cell_type": "code",
      "source": [
        "#3\n",
        "string = \"Shivam Pathak\"\n",
        "s = 0\n",
        "for i, a in enumerate(string):\n",
        "  s += 1\n",
        "print(s)"
      ],
      "metadata": {
        "colab": {
          "base_uri": "https://localhost:8080/"
        },
        "id": "sB0EO4eHAGiC",
        "outputId": "17e2e1ca-5669-4cfc-c66b-bbb5fe886fd8"
      },
      "execution_count": null,
      "outputs": [
        {
          "output_type": "stream",
          "name": "stdout",
          "text": [
            "13\n"
          ]
        }
      ]
    },
    {
      "cell_type": "code",
      "source": [
        "#Program to accept the strings which contains all vowels\n",
        "def check(string):\n",
        "  strng = string.lower()\n",
        "vowels = set(\"aeiou\")\n",
        "s = set({})\n",
        "for char in string:\n",
        "  if char in vowels:\n",
        "    s.add(char)\n",
        "  else:\n",
        "    pass\n",
        "if len(s) == len(vowels):\n",
        "  print(\"accepted\")\n",
        "else:\n",
        "  print(\"not accepted\")\n",
        "\n",
        "\n",
        " \n",
        "\n",
        "   "
      ],
      "metadata": {
        "colab": {
          "base_uri": "https://localhost:8080/"
        },
        "id": "AKYmr-WeEYKK",
        "outputId": "7f151baf-b28b-46fe-b691-3d9d8bf5c060"
      },
      "execution_count": null,
      "outputs": [
        {
          "output_type": "stream",
          "name": "stdout",
          "text": [
            "not accepted\n"
          ]
        }
      ]
    },
    {
      "cell_type": "code",
      "source": [
        "#\n",
        "# Function for check if string\n",
        "# is accepted or not\n",
        " \n",
        "#using all() method\n",
        " \n",
        "def check(string):\n",
        "    vowels = \"aeiou\" #storing vowels\n",
        "    if all(vowel in string.lower() for vowel in vowels):\n",
        "        return \"Accepted\"\n",
        "    return \"Not accepted\"\n",
        " \n",
        " \n",
        " \n",
        "#initializing string\n",
        "string = \"SEEquoiaL\"\n",
        "# test the function\n",
        "print(check(string))"
      ],
      "metadata": {
        "colab": {
          "base_uri": "https://localhost:8080/"
        },
        "id": "ob7Dq1Src_1i",
        "outputId": "2acc8b8c-0098-42aa-f08d-12beb5735172"
      },
      "execution_count": null,
      "outputs": [
        {
          "output_type": "stream",
          "name": "stdout",
          "text": [
            "Accepted\n"
          ]
        }
      ]
    },
    {
      "cell_type": "code",
      "source": [
        "#Count the Number of matching characters in a pair of string\n",
        "# Python code to count number of unique matching\n",
        " \n",
        "def count(s1, s2):\n",
        "    c=0 #counter variable\n",
        "    j=0\n",
        "    for i in s1:\n",
        "        if s2.find(i)>-0 and j==s1.find(i):\n",
        "            c=c+1\n",
        "        j=j+1\n",
        "    print(\"Matching char: \",c)\n",
        "\n",
        "s1=\"aabcdefk12\"\n",
        "s2=\"b2acdefk1\"\n",
        "count(s1,s2)\n",
        "    "
      ],
      "metadata": {
        "colab": {
          "base_uri": "https://localhost:8080/"
        },
        "id": "Dc9iEGRFdqhu",
        "outputId": "728d51e9-2182-4ed7-d826-b75a606e11dd"
      },
      "execution_count": null,
      "outputs": [
        {
          "output_type": "stream",
          "name": "stdout",
          "text": [
            "Matching char:  8\n"
          ]
        }
      ]
    },
    {
      "cell_type": "code",
      "source": [
        "from IPython.core.interactiveshell import removed_co_newlocals\n",
        "#Remove all duplicates from a given string in Python\n",
        "def removeDuplicate(str):\n",
        "  s=set(str)\n",
        "  s=\"\".join(s)\n",
        "  print(\"without order:\",s)\n",
        "  t=\"\"\n",
        "  for i in str:\n",
        "    if(i in t):\n",
        "      pass\n",
        "    else:\n",
        "      t=t+i\n",
        "    print(\"with order:\",t)\n",
        "str = \"geeks for geeks\"\n",
        "removeDuplicate(str)"
      ],
      "metadata": {
        "colab": {
          "base_uri": "https://localhost:8080/"
        },
        "id": "80iYz8wLJjVf",
        "outputId": "80cb8a11-4801-43c1-925f-42c9cd14c381"
      },
      "execution_count": null,
      "outputs": [
        {
          "output_type": "stream",
          "name": "stdout",
          "text": [
            "without order: ersog kf\n",
            "with order: g\n",
            "with order: ge\n",
            "with order: ge\n",
            "with order: gek\n",
            "with order: geks\n",
            "with order: geks \n",
            "with order: geks f\n",
            "with order: geks fo\n",
            "with order: geks for\n",
            "with order: geks for\n",
            "with order: geks for\n",
            "with order: geks for\n",
            "with order: geks for\n",
            "with order: geks for\n",
            "with order: geks for\n"
          ]
        }
      ]
    },
    {
      "cell_type": "code",
      "source": [
        "# Least Frequent Character in String\n",
        "test_str = \"geeksforgeeks\"\n",
        "print(\"the original string is:\" +test_str)\n",
        "all freq = {}\n",
        "for i in test_str:\n",
        "  if i in all_freq:\n",
        "    all_freq[i] += 1\n",
        "  else:\n",
        "    all_freq[i] = 1\n",
        "res = min(all_freq, key = all_freq.get)\n",
        "print(\"the minimum of all characters in geeksforgeeks is :\" + str(res))\n"
      ],
      "metadata": {
        "colab": {
          "base_uri": "https://localhost:8080/",
          "height": 130
        },
        "id": "6Re71v67Ng8R",
        "outputId": "68863391-646d-4d29-db8c-e83c886ccb37"
      },
      "execution_count": null,
      "outputs": [
        {
          "output_type": "error",
          "ename": "SyntaxError",
          "evalue": "ignored",
          "traceback": [
            "\u001b[0;36m  File \u001b[0;32m\"<ipython-input-19-f9a351d0a4f0>\"\u001b[0;36m, line \u001b[0;32m4\u001b[0m\n\u001b[0;31m    all freq = {}\u001b[0m\n\u001b[0m        ^\u001b[0m\n\u001b[0;31mSyntaxError\u001b[0m\u001b[0;31m:\u001b[0m invalid syntax\n"
          ]
        }
      ]
    }
  ],
  "metadata": {
    "colab": {
      "provenance": [],
      "authorship_tag": "ABX9TyPw/7RZ++KTo+9nYl7dWUQD",
      "include_colab_link": true
    },
    "kernelspec": {
      "display_name": "Python 3",
      "name": "python3"
    },
    "language_info": {
      "name": "python"
    }
  },
  "nbformat": 4,
  "nbformat_minor": 0
}